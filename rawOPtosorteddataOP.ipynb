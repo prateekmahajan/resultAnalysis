{
 "cells": [
  {
   "cell_type": "code",
   "execution_count": 28,
   "metadata": {},
   "outputs": [],
   "source": [
    "import pandas as pd   # every changed line must be interpreted in sequence again"
   ]
  },
  {
   "cell_type": "code",
   "execution_count": 29,
   "metadata": {},
   "outputs": [],
   "source": [
    "user_cols = ['Subject code' , 'col0' , 'col1' , 'col2' , 'InSem', 'col4' , 'Theory', 'col6' , 'Total', 'col8' , 'TermWork', 'col10' , 'PR', 'col12' , 'OR', 'col14' , 'col15', 'col16' ]\n",
    "\n",
    "dfd = pd.read_csv('TGUIOP.csv' , sep=r'\\s*( */*,*,,*,,,*)*\\s', header =None, names=user_cols,engine=\"python\") "
   ]
  },
  {
   "cell_type": "code",
   "execution_count": 30,
   "metadata": {},
   "outputs": [],
   "source": [
    "dfd.to_csv('goodOP.csv')"
   ]
  },
  {
   "cell_type": "code",
   "execution_count": null,
   "metadata": {},
   "outputs": [],
   "source": [
    "# sep=r'\\s*( */*,*,,*,,,*)*\\s'    engine=\"python\" sep=r'\\s*( )*(,,,)*(,,)*(,)*\\s'  sep=r\"\\s\"  #sep=r'\\ *(:|\\,,,|\\,,|\\,)\\s*'   sep= \" |,|,,|,,,|:\"  \" |:|,,,\""
   ]
  }
 ],
 "metadata": {
  "kernelspec": {
   "display_name": "Python 3",
   "language": "python",
   "name": "python3"
  },
  "language_info": {
   "codemirror_mode": {
    "name": "ipython",
    "version": 3
   },
   "file_extension": ".py",
   "mimetype": "text/x-python",
   "name": "python",
   "nbconvert_exporter": "python",
   "pygments_lexer": "ipython3",
   "version": "3.7.0"
  }
 },
 "nbformat": 4,
 "nbformat_minor": 2
}
